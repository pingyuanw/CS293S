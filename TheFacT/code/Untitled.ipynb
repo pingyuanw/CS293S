{
 "cells": [
  {
   "cell_type": "code",
   "execution_count": 1,
   "metadata": {},
   "outputs": [],
   "source": [
    "import numpy as np"
   ]
  },
  {
   "cell_type": "code",
   "execution_count": null,
   "metadata": {},
   "outputs": [],
   "source": [
    "def find_split_point(self, opinion_matrix, feature_index, NUMBER_OF_BIN):\n",
    "        u_f_opinion = opinion_matrix[:, feature_index]\n",
    "        arg = np.argsort(u_f_opinion)\n",
    "        u_f_opinion = u_f_opinion[arg]\n",
    "        #print(u_f_opinion)\n",
    "        number_of_unknown = np.sum(u_f_opinion == 10000)\n",
    "        distance = (len(opinion_matrix)-number_of_unknown)//NUMBER_OF_BIN\n",
    "        split_point_lists = [u_f_opinion[(i+1)*distance] for i in range(NUMBER_OF_BIN-1)]\n",
    "        split_point_lists = np.unique(split_point_lists)\n",
    "        return split_point_lists"
   ]
  },
  {
   "cell_type": "code",
   "execution_count": 30,
   "metadata": {},
   "outputs": [],
   "source": [
    "def getRatingMatrix(filename):\n",
    "    # Open the file for reading data\n",
    "    file = open(filename, \"r\")\n",
    "\n",
    "    while 1:\n",
    "    # Read all the lines from the file and store it in lines\n",
    "        lines = file.readlines(1000000000)\n",
    "\n",
    "        # if Lines is empty, simply break\n",
    "        if not lines:\n",
    "            break\n",
    "\n",
    "        # Create a list to hold all the data\n",
    "        data = []\n",
    "        data_fo = []\n",
    "\n",
    "        print(\"Number of Lines: \", len(lines))\n",
    "\n",
    "        # For each Data Entry, get the rating and the f-o pairs in their respective list\n",
    "        for line in lines:\n",
    "            # print(\"dealing with new line\")\n",
    "            # Get all the attributes by splitting on ','\n",
    "            list1 = line.split(\"\\n\")[0].split(\",\")\n",
    "            list2 = list1.pop()\n",
    "            # list1 store userid itemid and rating\n",
    "            # list2 store all f-o pair for each userid\n",
    "            list2 = list2.split(\" \")\n",
    "            list2 = [int(j) for j in list2]\n",
    "            list1 = [int(j) for j in list1]\n",
    "            # Add to the data\n",
    "            data.append(list1)\n",
    "            data_fo.append(list2)\n",
    "\n",
    "        index_f = []\n",
    "        for i in data_fo:\n",
    "            index_f.extend(i)\n",
    "\n",
    "        index_f = np.array(index_f)\n",
    "        index_f = index_f[np.argmax(index_f)] + 1\n",
    "        print(\"Number of feature : \", index_f)\n",
    "        # convert data into numpy form\n",
    "        data = np.array(data)\n",
    "\n",
    "        # Get the indices of the maximum Values in each column\n",
    "        a = np.argmax(data, axis=0)\n",
    "        # print(a)\n",
    "        num_users = data[a[0]][0] + 1\n",
    "        num_items = data[a[1]][1] + 1\n",
    "\n",
    "        # print \"Max values Indices: \", a\n",
    "        print(\"Number of Users: \", num_users)\n",
    "        print(\"Number of Items: \", num_items)\n",
    "\n",
    "        # print(data_fo)\n",
    "        # print(data)\n",
    "\n",
    "        ratingMatrix = np.zeros((num_users, num_items), dtype=float)\n",
    "        opinionMatrix = np.zeros((num_users, index_f), dtype=float)\n",
    "        opinionMatrix = np.full(opinionMatrix.shape,10000)\n",
    "        opinionMatrix_I = np.zeros((num_items, index_f), dtype=float)\n",
    "        opinionMatrix_I = np.full(opinionMatrix_I.shape, 10000)\n",
    "        # print(len(data))\n",
    "        # print(len(data_fo))\n",
    "\n",
    "        for i in range(len(data)):\n",
    "            list1 = data[i]  # userid itemid rating in line i\n",
    "            list2 = data_fo[i]  # all f-o pair in line i\n",
    "            ratingMatrix[list1[0]][list1[1]] = list1[2]\n",
    "            f_positive = 0\n",
    "            f_negtive = 0\n",
    "            for j in range(0, len(list2), 2):\n",
    "                # list2[j] is feature_id list2[j+1] is value of opinion\n",
    "                if(list2[j+1]>0):\n",
    "                    f_positive+=1\n",
    "                elif(list2[j+1]<0):\n",
    "                    f_negtive+=1\n",
    "                opinionMatrix[list1[0]][list2[j]] = f_positive+f_negtive\n",
    "                opinionMatrix_I[list1[1]][list2[j]] = f_positive-f_negtive\n",
    "    return opinionMatrix, opinionMatrix_I"
   ]
  },
  {
   "cell_type": "code",
   "execution_count": 31,
   "metadata": {},
   "outputs": [
    {
     "name": "stdout",
     "output_type": "stream",
     "text": [
      "('Number of Lines: ', 1050)\n",
      "('Number of feature : ', 104)\n",
      "('Number of Users: ', 1001)\n",
      "('Number of Items: ', 63)\n"
     ]
    }
   ],
   "source": [
    "op, opi = getRatingMatrix(\"../data/test_train.txt\")"
   ]
  },
  {
   "cell_type": "code",
   "execution_count": 55,
   "metadata": {},
   "outputs": [],
   "source": [
    "def getRatingMatrix(filename):\n",
    "    data = []\n",
    "    data_fo = []\n",
    "    feature = []\n",
    "    with open(filename) as file:\n",
    "        for line in file:\n",
    "            d = line[:-1].split(\",\")\n",
    "            list1 = [int(x) for x in d[:-1]]\n",
    "            list2 = [int(x) for x in d[-1].split(\" \")]\n",
    "\n",
    "            data.append(list1)\n",
    "            data_fo.append(list2)\n",
    "            for i in list2:\n",
    "                feature.append(i)\n",
    "    data = np.array(data)\n",
    "\n",
    "    num_users = data[:, 0].max() + 1\n",
    "    num_items = data[:, 1].max() + 1\n",
    "    num_features = max(feature) + 1\n",
    "    print num_features\n",
    "    \n",
    "    # create rating matrix, and user_opinion, item_opinion matrices\n",
    "    # user_opinion: user preference for each feature\n",
    "    # item_opinion: item performance on each feature\n",
    "    rating_matrix = np.zeros((num_users, num_items), dtype=float)\n",
    "#     user_opinion = np.zeros((num_users, num_features), dtype=float)\n",
    "#     item_opinion = np.zeros((num_items, num_features), dtype=float)\n",
    "\n",
    "    user_opinion = np.full((num_users, num_features), 10000)\n",
    "    item_opinion = np.full((num_items, num_features), 10000)\n",
    "    # update the matrices with input data\n",
    "    # get the accumulated feature opinion scores for users and items.\n",
    "    for i in range(len(data)):\n",
    "        user_id, item_id, rating = data[i]\n",
    "        rating_matrix[user_id][item_id] = rating\n",
    "        num_pos = 0\n",
    "        num_neg = 0\n",
    "        for j in range(0, len(data_fo[i]), 2):\n",
    "            if data_fo[i][j+1] > 0:\n",
    "                num_pos += 1\n",
    "            elif data_fo[i][j+1] < 0:\n",
    "                num_neg += 1\n",
    "            user_opinion[user_id][data_fo[i][j]] = num_pos + num_neg\n",
    "            item_opinion[item_id][data_fo[i][j]] = num_pos - num_neg\n",
    "            # user_opinion[user_id][data_fo[i][j]] += data_fo[i][j + 1]\n",
    "            # item_opinion[item_id][data_fo[i][j]] += data_fo[i][j + 1]\n",
    "\n",
    "    # use the sign function to change the accumulated opinion matrices\n",
    "    # user_opinion = np.sign(user_opinion)\n",
    "    # item_opinion = np.sign(item_opinion)\n",
    "\n",
    "    return rating_matrix, user_opinion, item_opinion"
   ]
  },
  {
   "cell_type": "code",
   "execution_count": 56,
   "metadata": {},
   "outputs": [
    {
     "name": "stdout",
     "output_type": "stream",
     "text": [
      "104\n"
     ]
    }
   ],
   "source": [
    "r, op_n, opi_n = getRatingMatrix(\"../data/test_train.txt\")"
   ]
  },
  {
   "cell_type": "code",
   "execution_count": 57,
   "metadata": {},
   "outputs": [
    {
     "data": {
      "text/plain": [
       "(63, 104)"
      ]
     },
     "execution_count": 57,
     "metadata": {},
     "output_type": "execute_result"
    }
   ],
   "source": [
    "opi_n.shape"
   ]
  },
  {
   "cell_type": "code",
   "execution_count": 60,
   "metadata": {},
   "outputs": [
    {
     "data": {
      "text/plain": [
       "0"
      ]
     },
     "execution_count": 60,
     "metadata": {},
     "output_type": "execute_result"
    }
   ],
   "source": [
    "(opi - opi_n).sum()"
   ]
  },
  {
   "cell_type": "code",
   "execution_count": null,
   "metadata": {},
   "outputs": [],
   "source": [
    "data = []\n",
    "data_fo = []\n",
    "feature = []\n",
    "with open(filename) as file:\n",
    "    for line in file:\n",
    "        d = line[:-1].split(\",\")\n",
    "        list1 = [int(x) for x in d[:-1]]\n",
    "        list2 = [int(x) for x in d[-1].split(\" \")]\n",
    "\n",
    "        data.append(list1)\n",
    "        data_fo.append(list2)\n",
    "        for i in list2:\n",
    "            feature.append(i)\n",
    "data = np.array(data)\n",
    "\n",
    "num_users = data[:, 0].max() + 1\n",
    "num_items = data[:, 1].max() + 1\n",
    "num_features = max(feature) + 1\n",
    "\n",
    "# create rating matrix, and user_opinion, item_opinion matrices\n",
    "# user_opinion: user preference for each feature\n",
    "# item_opinion: item performance on each feature\n",
    "rating_matrix = np.zeros((num_users, num_items), dtype=float)\n",
    "user_opinion = np.zeros((num_users, num_features), dtype=float)\n",
    "item_opinion = np.zeros((num_items, num_features), dtype=float)\n",
    "# update the matrices with input data\n",
    "# get the accumulated feature opinion scores for users and items.\n",
    "for i in range(len(data)):\n",
    "    user_id, item_id, rating = data[i]\n",
    "    rating_matrix[user_id][item_id] = rating\n",
    "    for j in range(0, len(data_fo[i]), 2):\n",
    "        user_opinion[user_id][data_fo[i][j]] += data_fo[i][j + 1]\n",
    "        item_opinion[item_id][data_fo[i][j]] += data_fo[i][j + 1]\n",
    "\n",
    "# use the sign function to change the accumulated opinion matrices\n",
    "user_opinion = np.sign(user_opinion)\n",
    "item_opinion = np.sign(item_opinion)"
   ]
  },
  {
   "cell_type": "code",
   "execution_count": 99,
   "metadata": {},
   "outputs": [],
   "source": [
    "opinion_matrix = np.random.rand(10, 20)\n",
    "feature_index = 5\n",
    "NUM_BIN = 5"
   ]
  },
  {
   "cell_type": "code",
   "execution_count": 100,
   "metadata": {},
   "outputs": [],
   "source": [
    "u_f_opinion = opinion_matrix[:, feature_index]\n",
    "arg = np.argsort(u_f_opinion)\n",
    "u_f_opinion = u_f_opinion[arg]\n",
    "#print(u_f_opinion)\n",
    "number_of_unknown = np.sum(u_f_opinion == 10000)\n",
    "distance = (len(opinion_matrix)-number_of_unknown)//NUM_BIN\n",
    "split_point_lists = [u_f_opinion[(i+1)*distance] for i in range(NUM_BIN-1)]\n",
    "split_point_lists = np.unique(split_point_lists)"
   ]
  },
  {
   "cell_type": "code",
   "execution_count": 110,
   "metadata": {},
   "outputs": [
    {
     "data": {
      "text/plain": [
       "[0.595927038611495, 0.6591785482536219, 0.8545700992797299, 0.945671881407283]"
      ]
     },
     "execution_count": 110,
     "metadata": {},
     "output_type": "execute_result"
    }
   ],
   "source": [
    "[u_f_opinion[(i+1)*distance] for i in range(NUM_BIN-1)]"
   ]
  },
  {
   "cell_type": "code",
   "execution_count": 113,
   "metadata": {},
   "outputs": [],
   "source": [
    "op = opinion_matrix[:, feature_index]\n",
    "sorted_op = sorted(op)\n",
    "num_known = np.count_nonzero(~np.isnan(sorted_op))\n",
    "bin_interval = num_known // NUM_BIN\n",
    "sp_list = np.unique([sorted_op[(i + 1) * bin_interval] for i in range(NUM_BIN - 1)])"
   ]
  },
  {
   "cell_type": "code",
   "execution_count": 114,
   "metadata": {},
   "outputs": [
    {
     "data": {
      "text/plain": [
       "array([0.59592704, 0.65917855, 0.8545701 , 0.94567188])"
      ]
     },
     "execution_count": 114,
     "metadata": {},
     "output_type": "execute_result"
    }
   ],
   "source": [
    "sp_list"
   ]
  },
  {
   "cell_type": "code",
   "execution_count": 112,
   "metadata": {},
   "outputs": [
    {
     "data": {
      "text/plain": [
       "[0.08713469141553631,\n",
       " 0.20921604800065396,\n",
       " 0.595927038611495,\n",
       " 0.6552661518623754,\n",
       " 0.6591785482536219,\n",
       " 0.8470499530863663,\n",
       " 0.8545700992797299,\n",
       " 0.9369587645077986,\n",
       " 0.945671881407283,\n",
       " 0.953785431554932]"
      ]
     },
     "execution_count": 112,
     "metadata": {},
     "output_type": "execute_result"
    }
   ],
   "source": [
    "indices_like = np.where((data[:, feature_index] > split_point)&(data[:, feature_index] != 10000))[0]\n",
    "\n",
    "# Get the indices for the when the opinion value is dislike\n",
    "indices_dislike = np.where(data[:, feature_index] <= split_point)[0]\n",
    "\n",
    "# Get the indices for the when the opinion is unknown\n",
    "indices_unknown = np.where(data[:, feature_index] == 10000)[0]"
   ]
  },
  {
   "cell_type": "code",
   "execution_count": 116,
   "metadata": {},
   "outputs": [
    {
     "data": {
      "text/plain": [
       "array([0.59592704, 0.65917855, 0.8545701 , 0.94567188])"
      ]
     },
     "execution_count": 116,
     "metadata": {},
     "output_type": "execute_result"
    }
   ],
   "source": [
    "sp_list"
   ]
  },
  {
   "cell_type": "code",
   "execution_count": 126,
   "metadata": {},
   "outputs": [],
   "source": [
    "test = np.random.rand(10, 4)"
   ]
  },
  {
   "cell_type": "code",
   "execution_count": 134,
   "metadata": {},
   "outputs": [],
   "source": [
    "k = np.zeros((10, 4))"
   ]
  },
  {
   "cell_type": "code",
   "execution_count": 137,
   "metadata": {},
   "outputs": [],
   "source": [
    "k[2][:2] = [1, 2]"
   ]
  },
  {
   "cell_type": "code",
   "execution_count": 132,
   "metadata": {},
   "outputs": [
    {
     "data": {
      "text/plain": [
       "0.017121629863683263"
      ]
     },
     "execution_count": 132,
     "metadata": {},
     "output_type": "execute_result"
    }
   ],
   "source": [
    "test.min()"
   ]
  }
 ],
 "metadata": {
  "kernelspec": {
   "display_name": "Python 2",
   "language": "python",
   "name": "python2"
  },
  "language_info": {
   "codemirror_mode": {
    "name": "ipython",
    "version": 2
   },
   "file_extension": ".py",
   "mimetype": "text/x-python",
   "name": "python",
   "nbconvert_exporter": "python",
   "pygments_lexer": "ipython2",
   "version": "2.7.16"
  }
 },
 "nbformat": 4,
 "nbformat_minor": 2
}
